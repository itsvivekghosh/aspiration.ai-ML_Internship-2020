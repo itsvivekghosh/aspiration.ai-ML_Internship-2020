{
 "cells": [
  {
   "cell_type": "markdown",
   "metadata": {},
   "source": [
    "# Module 2 Week 3"
   ]
  },
  {
   "cell_type": "code",
   "execution_count": 1,
   "metadata": {},
   "outputs": [
    {
     "name": "stderr",
     "output_type": "stream",
     "text": [
      "F:\\Anaconda\\lib\\site-packages\\statsmodels\\tools\\_testing.py:19: FutureWarning: pandas.util.testing is deprecated. Use the functions in the public API at pandas.testing instead.\n",
      "  import pandas.util.testing as tm\n"
     ]
    }
   ],
   "source": [
    "import pandas as pd\n",
    "import numpy as np\n",
    "import matplotlib.pyplot as plt\n",
    "import seaborn as sns\n",
    "import warnings, os\n",
    "warnings.filterwarnings(\"ignore\")\n",
    "pd.set_option(\"display.max_columns\", None)\n",
    "plt.style.use(\"ggplot\")\n",
    "sns.set(rc={'figure.figsize':(20,10)})\n",
    "%matplotlib inline"
   ]
  },
  {
   "cell_type": "markdown",
   "metadata": {},
   "source": [
    "###  2.1 Load the week2.csv file into a dataframe.\n",
    "1. What is the type of the `Date` Column? Make sure it is of type datetime64. Convert the `Date` column to the index of the dataframe.\n",
    "2. Plot the closing price of each of the days for the entire time frame to get an idea of what the general outlook of the stock is.\n",
    "3. Look out for drastic changes in this stock, you have the exact date when these took place, try to fetch the news for this day of this stock This would be helpful if we are to train our model to take NLP inputs."
   ]
  },
  {
   "cell_type": "code",
   "execution_count": 2,
   "metadata": {},
   "outputs": [
    {
     "data": {
      "text/html": [
       "<div>\n",
       "<style scoped>\n",
       "    .dataframe tbody tr th:only-of-type {\n",
       "        vertical-align: middle;\n",
       "    }\n",
       "\n",
       "    .dataframe tbody tr th {\n",
       "        vertical-align: top;\n",
       "    }\n",
       "\n",
       "    .dataframe thead th {\n",
       "        text-align: right;\n",
       "    }\n",
       "</style>\n",
       "<table border=\"1\" class=\"dataframe\">\n",
       "  <thead>\n",
       "    <tr style=\"text-align: right;\">\n",
       "      <th></th>\n",
       "      <th>Symbol</th>\n",
       "      <th>Series</th>\n",
       "      <th>Date</th>\n",
       "      <th>Prev Close</th>\n",
       "      <th>Open Price</th>\n",
       "      <th>High Price</th>\n",
       "      <th>Low Price</th>\n",
       "      <th>Last Price</th>\n",
       "      <th>Close Price</th>\n",
       "      <th>Average Price</th>\n",
       "      <th>Total Traded Quantity</th>\n",
       "      <th>Turnover</th>\n",
       "      <th>No. of Trades</th>\n",
       "      <th>Deliverable Qty</th>\n",
       "      <th>% Dly Qt to Traded Qty</th>\n",
       "      <th>Date_Year</th>\n",
       "      <th>Date_Month</th>\n",
       "      <th>VWAP</th>\n",
       "      <th>Day_Perc_Change</th>\n",
       "      <th>Trend</th>\n",
       "    </tr>\n",
       "  </thead>\n",
       "  <tbody>\n",
       "    <tr>\n",
       "      <th>0</th>\n",
       "      <td>TCS</td>\n",
       "      <td>EQ</td>\n",
       "      <td>2017-05-15</td>\n",
       "      <td>2360.65</td>\n",
       "      <td>2375.1</td>\n",
       "      <td>2377.95</td>\n",
       "      <td>2341.60</td>\n",
       "      <td>2368.0</td>\n",
       "      <td>2365.10</td>\n",
       "      <td>2352.60</td>\n",
       "      <td>908802</td>\n",
       "      <td>2.138043e+09</td>\n",
       "      <td>30047</td>\n",
       "      <td>712450</td>\n",
       "      <td>78.39</td>\n",
       "      <td>2017</td>\n",
       "      <td>5</td>\n",
       "      <td>2365.10</td>\n",
       "      <td>0.00000</td>\n",
       "      <td>Slight or No change</td>\n",
       "    </tr>\n",
       "    <tr>\n",
       "      <th>1</th>\n",
       "      <td>TCS</td>\n",
       "      <td>EQ</td>\n",
       "      <td>2017-05-16</td>\n",
       "      <td>2365.10</td>\n",
       "      <td>2380.0</td>\n",
       "      <td>2435.00</td>\n",
       "      <td>2373.45</td>\n",
       "      <td>2425.1</td>\n",
       "      <td>2429.15</td>\n",
       "      <td>2410.26</td>\n",
       "      <td>1800513</td>\n",
       "      <td>4.339703e+09</td>\n",
       "      <td>58476</td>\n",
       "      <td>1167534</td>\n",
       "      <td>64.84</td>\n",
       "      <td>2017</td>\n",
       "      <td>5</td>\n",
       "      <td>2407.67</td>\n",
       "      <td>0.02708</td>\n",
       "      <td>Slight or No change</td>\n",
       "    </tr>\n",
       "    <tr>\n",
       "      <th>2</th>\n",
       "      <td>TCS</td>\n",
       "      <td>EQ</td>\n",
       "      <td>2017-05-17</td>\n",
       "      <td>2429.15</td>\n",
       "      <td>2433.5</td>\n",
       "      <td>2460.75</td>\n",
       "      <td>2423.00</td>\n",
       "      <td>2450.0</td>\n",
       "      <td>2455.35</td>\n",
       "      <td>2443.31</td>\n",
       "      <td>1438099</td>\n",
       "      <td>3.513729e+09</td>\n",
       "      <td>86412</td>\n",
       "      <td>1031752</td>\n",
       "      <td>71.74</td>\n",
       "      <td>2017</td>\n",
       "      <td>5</td>\n",
       "      <td>2424.20</td>\n",
       "      <td>0.01079</td>\n",
       "      <td>Slight or No change</td>\n",
       "    </tr>\n",
       "  </tbody>\n",
       "</table>\n",
       "</div>"
      ],
      "text/plain": [
       "  Symbol Series       Date  Prev Close  Open Price  High Price  Low Price  \\\n",
       "0    TCS     EQ 2017-05-15     2360.65      2375.1     2377.95    2341.60   \n",
       "1    TCS     EQ 2017-05-16     2365.10      2380.0     2435.00    2373.45   \n",
       "2    TCS     EQ 2017-05-17     2429.15      2433.5     2460.75    2423.00   \n",
       "\n",
       "   Last Price  Close Price  Average Price  Total Traded Quantity  \\\n",
       "0      2368.0      2365.10        2352.60                 908802   \n",
       "1      2425.1      2429.15        2410.26                1800513   \n",
       "2      2450.0      2455.35        2443.31                1438099   \n",
       "\n",
       "       Turnover  No. of Trades  Deliverable Qty  % Dly Qt to Traded Qty  \\\n",
       "0  2.138043e+09          30047           712450                   78.39   \n",
       "1  4.339703e+09          58476          1167534                   64.84   \n",
       "2  3.513729e+09          86412          1031752                   71.74   \n",
       "\n",
       "   Date_Year  Date_Month     VWAP  Day_Perc_Change                Trend  \n",
       "0       2017           5  2365.10          0.00000  Slight or No change  \n",
       "1       2017           5  2407.67          0.02708  Slight or No change  \n",
       "2       2017           5  2424.20          0.01079  Slight or No change  "
      ]
     },
     "execution_count": 2,
     "metadata": {},
     "output_type": "execute_result"
    }
   ],
   "source": [
    "## Loading Week 2 csv file\n",
    "df = pd.read_csv(\"../Module 1/Week 2/week2.csv\", parse_dates=['Date'])\n",
    "df = df.iloc[:, 1:]\n",
    "df.head(3)"
   ]
  },
  {
   "cell_type": "code",
   "execution_count": 3,
   "metadata": {},
   "outputs": [
    {
     "name": "stdout",
     "output_type": "stream",
     "text": [
      "datetime64[ns]\n"
     ]
    }
   ],
   "source": [
    "## Date Column Data-type\n",
    "print(df.Date.dtypes)\n",
    "if df.Date.dtypes == 'O':\n",
    "    print(\"The Date Column is of Object Type\")"
   ]
  },
  {
   "cell_type": "code",
   "execution_count": 4,
   "metadata": {},
   "outputs": [],
   "source": [
    "df.set_index(\"Date\", inplace=True, drop=False)"
   ]
  },
  {
   "cell_type": "markdown",
   "metadata": {},
   "source": [
    "As this is not in `datetime64` format so we have to convert it into this format."
   ]
  },
  {
   "cell_type": "code",
   "execution_count": 5,
   "metadata": {},
   "outputs": [
    {
     "name": "stdout",
     "output_type": "stream",
     "text": [
      "<class 'pandas.core.frame.DataFrame'>\n",
      "DatetimeIndex: 494 entries, 2017-05-15 to 2019-05-13\n",
      "Data columns (total 20 columns):\n",
      " #   Column                  Non-Null Count  Dtype         \n",
      "---  ------                  --------------  -----         \n",
      " 0   Symbol                  494 non-null    object        \n",
      " 1   Series                  494 non-null    object        \n",
      " 2   Date                    494 non-null    datetime64[ns]\n",
      " 3   Prev Close              494 non-null    float64       \n",
      " 4   Open Price              494 non-null    float64       \n",
      " 5   High Price              494 non-null    float64       \n",
      " 6   Low Price               494 non-null    float64       \n",
      " 7   Last Price              494 non-null    float64       \n",
      " 8   Close Price             494 non-null    float64       \n",
      " 9   Average Price           494 non-null    float64       \n",
      " 10  Total Traded Quantity   494 non-null    int64         \n",
      " 11  Turnover                494 non-null    float64       \n",
      " 12  No. of Trades           494 non-null    int64         \n",
      " 13  Deliverable Qty         494 non-null    int64         \n",
      " 14  % Dly Qt to Traded Qty  494 non-null    float64       \n",
      " 15  Date_Year               494 non-null    int64         \n",
      " 16  Date_Month              494 non-null    int64         \n",
      " 17  VWAP                    494 non-null    float64       \n",
      " 18  Day_Perc_Change         494 non-null    float64       \n",
      " 19  Trend                   494 non-null    object        \n",
      "dtypes: datetime64[ns](1), float64(11), int64(5), object(3)\n",
      "memory usage: 81.0+ KB\n"
     ]
    }
   ],
   "source": [
    "df.info()"
   ]
  },
  {
   "cell_type": "markdown",
   "metadata": {},
   "source": [
    "WE can use `\"astype('datetime64')\"` property to change Date Column to `'datetime64'` format"
   ]
  },
  {
   "cell_type": "code",
   "execution_count": 6,
   "metadata": {},
   "outputs": [
    {
     "name": "stdout",
     "output_type": "stream",
     "text": [
      "<class 'pandas.core.frame.DataFrame'>\n",
      "DatetimeIndex: 494 entries, 2017-05-15 to 2019-05-13\n",
      "Data columns (total 20 columns):\n",
      " #   Column                  Non-Null Count  Dtype         \n",
      "---  ------                  --------------  -----         \n",
      " 0   Symbol                  494 non-null    object        \n",
      " 1   Series                  494 non-null    object        \n",
      " 2   Date                    494 non-null    datetime64[ns]\n",
      " 3   Prev Close              494 non-null    float64       \n",
      " 4   Open Price              494 non-null    float64       \n",
      " 5   High Price              494 non-null    float64       \n",
      " 6   Low Price               494 non-null    float64       \n",
      " 7   Last Price              494 non-null    float64       \n",
      " 8   Close Price             494 non-null    float64       \n",
      " 9   Average Price           494 non-null    float64       \n",
      " 10  Total Traded Quantity   494 non-null    int64         \n",
      " 11  Turnover                494 non-null    float64       \n",
      " 12  No. of Trades           494 non-null    int64         \n",
      " 13  Deliverable Qty         494 non-null    int64         \n",
      " 14  % Dly Qt to Traded Qty  494 non-null    float64       \n",
      " 15  Date_Year               494 non-null    int64         \n",
      " 16  Date_Month              494 non-null    int64         \n",
      " 17  VWAP                    494 non-null    float64       \n",
      " 18  Day_Perc_Change         494 non-null    float64       \n",
      " 19  Trend                   494 non-null    object        \n",
      "dtypes: datetime64[ns](1), float64(11), int64(5), object(3)\n",
      "memory usage: 81.0+ KB\n"
     ]
    }
   ],
   "source": [
    "df['Date'] = df.Date.astype('datetime64')\n",
    "df.info()"
   ]
  },
  {
   "cell_type": "markdown",
   "metadata": {},
   "source": [
    "The `Date` column is converted into `\"datetime64\"` format."
   ]
  },
  {
   "cell_type": "code",
   "execution_count": 7,
   "metadata": {},
   "outputs": [
    {
     "data": {
      "text/html": [
       "<div>\n",
       "<style scoped>\n",
       "    .dataframe tbody tr th:only-of-type {\n",
       "        vertical-align: middle;\n",
       "    }\n",
       "\n",
       "    .dataframe tbody tr th {\n",
       "        vertical-align: top;\n",
       "    }\n",
       "\n",
       "    .dataframe thead th {\n",
       "        text-align: right;\n",
       "    }\n",
       "</style>\n",
       "<table border=\"1\" class=\"dataframe\">\n",
       "  <thead>\n",
       "    <tr style=\"text-align: right;\">\n",
       "      <th></th>\n",
       "      <th>Symbol</th>\n",
       "      <th>Series</th>\n",
       "      <th>Date</th>\n",
       "      <th>Prev Close</th>\n",
       "      <th>Open Price</th>\n",
       "      <th>High Price</th>\n",
       "      <th>Low Price</th>\n",
       "      <th>Last Price</th>\n",
       "      <th>Close Price</th>\n",
       "      <th>Average Price</th>\n",
       "      <th>Total Traded Quantity</th>\n",
       "      <th>Turnover</th>\n",
       "      <th>No. of Trades</th>\n",
       "      <th>Deliverable Qty</th>\n",
       "      <th>% Dly Qt to Traded Qty</th>\n",
       "      <th>Date_Year</th>\n",
       "      <th>Date_Month</th>\n",
       "      <th>VWAP</th>\n",
       "      <th>Day_Perc_Change</th>\n",
       "      <th>Trend</th>\n",
       "    </tr>\n",
       "    <tr>\n",
       "      <th>Date</th>\n",
       "      <th></th>\n",
       "      <th></th>\n",
       "      <th></th>\n",
       "      <th></th>\n",
       "      <th></th>\n",
       "      <th></th>\n",
       "      <th></th>\n",
       "      <th></th>\n",
       "      <th></th>\n",
       "      <th></th>\n",
       "      <th></th>\n",
       "      <th></th>\n",
       "      <th></th>\n",
       "      <th></th>\n",
       "      <th></th>\n",
       "      <th></th>\n",
       "      <th></th>\n",
       "      <th></th>\n",
       "      <th></th>\n",
       "      <th></th>\n",
       "    </tr>\n",
       "  </thead>\n",
       "  <tbody>\n",
       "    <tr>\n",
       "      <th>2017-05-15</th>\n",
       "      <td>TCS</td>\n",
       "      <td>EQ</td>\n",
       "      <td>2017-05-15</td>\n",
       "      <td>2360.65</td>\n",
       "      <td>2375.1</td>\n",
       "      <td>2377.95</td>\n",
       "      <td>2341.60</td>\n",
       "      <td>2368.0</td>\n",
       "      <td>2365.10</td>\n",
       "      <td>2352.60</td>\n",
       "      <td>908802</td>\n",
       "      <td>2.138043e+09</td>\n",
       "      <td>30047</td>\n",
       "      <td>712450</td>\n",
       "      <td>78.39</td>\n",
       "      <td>2017</td>\n",
       "      <td>5</td>\n",
       "      <td>2365.10</td>\n",
       "      <td>0.00000</td>\n",
       "      <td>Slight or No change</td>\n",
       "    </tr>\n",
       "    <tr>\n",
       "      <th>2017-05-16</th>\n",
       "      <td>TCS</td>\n",
       "      <td>EQ</td>\n",
       "      <td>2017-05-16</td>\n",
       "      <td>2365.10</td>\n",
       "      <td>2380.0</td>\n",
       "      <td>2435.00</td>\n",
       "      <td>2373.45</td>\n",
       "      <td>2425.1</td>\n",
       "      <td>2429.15</td>\n",
       "      <td>2410.26</td>\n",
       "      <td>1800513</td>\n",
       "      <td>4.339703e+09</td>\n",
       "      <td>58476</td>\n",
       "      <td>1167534</td>\n",
       "      <td>64.84</td>\n",
       "      <td>2017</td>\n",
       "      <td>5</td>\n",
       "      <td>2407.67</td>\n",
       "      <td>0.02708</td>\n",
       "      <td>Slight or No change</td>\n",
       "    </tr>\n",
       "    <tr>\n",
       "      <th>2017-05-17</th>\n",
       "      <td>TCS</td>\n",
       "      <td>EQ</td>\n",
       "      <td>2017-05-17</td>\n",
       "      <td>2429.15</td>\n",
       "      <td>2433.5</td>\n",
       "      <td>2460.75</td>\n",
       "      <td>2423.00</td>\n",
       "      <td>2450.0</td>\n",
       "      <td>2455.35</td>\n",
       "      <td>2443.31</td>\n",
       "      <td>1438099</td>\n",
       "      <td>3.513729e+09</td>\n",
       "      <td>86412</td>\n",
       "      <td>1031752</td>\n",
       "      <td>71.74</td>\n",
       "      <td>2017</td>\n",
       "      <td>5</td>\n",
       "      <td>2424.20</td>\n",
       "      <td>0.01079</td>\n",
       "      <td>Slight or No change</td>\n",
       "    </tr>\n",
       "  </tbody>\n",
       "</table>\n",
       "</div>"
      ],
      "text/plain": [
       "           Symbol Series       Date  Prev Close  Open Price  High Price  \\\n",
       "Date                                                                      \n",
       "2017-05-15    TCS     EQ 2017-05-15     2360.65      2375.1     2377.95   \n",
       "2017-05-16    TCS     EQ 2017-05-16     2365.10      2380.0     2435.00   \n",
       "2017-05-17    TCS     EQ 2017-05-17     2429.15      2433.5     2460.75   \n",
       "\n",
       "            Low Price  Last Price  Close Price  Average Price  \\\n",
       "Date                                                            \n",
       "2017-05-15    2341.60      2368.0      2365.10        2352.60   \n",
       "2017-05-16    2373.45      2425.1      2429.15        2410.26   \n",
       "2017-05-17    2423.00      2450.0      2455.35        2443.31   \n",
       "\n",
       "            Total Traded Quantity      Turnover  No. of Trades  \\\n",
       "Date                                                             \n",
       "2017-05-15                 908802  2.138043e+09          30047   \n",
       "2017-05-16                1800513  4.339703e+09          58476   \n",
       "2017-05-17                1438099  3.513729e+09          86412   \n",
       "\n",
       "            Deliverable Qty  % Dly Qt to Traded Qty  Date_Year  Date_Month  \\\n",
       "Date                                                                         \n",
       "2017-05-15           712450                   78.39       2017           5   \n",
       "2017-05-16          1167534                   64.84       2017           5   \n",
       "2017-05-17          1031752                   71.74       2017           5   \n",
       "\n",
       "               VWAP  Day_Perc_Change                Trend  \n",
       "Date                                                       \n",
       "2017-05-15  2365.10          0.00000  Slight or No change  \n",
       "2017-05-16  2407.67          0.02708  Slight or No change  \n",
       "2017-05-17  2424.20          0.01079  Slight or No change  "
      ]
     },
     "execution_count": 7,
     "metadata": {},
     "output_type": "execute_result"
    }
   ],
   "source": [
    "df.head(3)"
   ]
  },
  {
   "cell_type": "code",
   "execution_count": 8,
   "metadata": {},
   "outputs": [
    {
     "data": {
      "image/png": "[encoded data removed]",
      "text/plain": [
       "<Figure size 720x432 with 1 Axes>"
      ]
     },
     "metadata": {
      "needs_background": "light"
     },
     "output_type": "display_data"
    }
   ],
   "source": [
    "plt.figure(figsize=(10, 6))\n",
    "sns.lineplot(data=df, x='Date', y='Close Price', label='TCS Close Price')\n",
    "plt.xticks(fontsize = 12)\n",
    "plt.yticks(fontsize = 12)\n",
    "plt.title(\"Close Prices with Dates\", fontsize = 15)\n",
    "plt.xlabel(\"Date\", fontsize=15)\n",
    "plt.ylabel(\"Close Price\", fontsize=15)\n",
    "plt.show()"
   ]
  },
  {
   "cell_type": "markdown",
   "metadata": {},
   "source": [
    "From the above plot, we can see that:\n",
    "1. The Closing Price came down with a large margin during May-June Period.\n",
    "2. The Closing Prices were very less after the major down-fall."
   ]
  },
  {
   "cell_type": "markdown",
   "metadata": {},
   "source": [
    "## 2.2 A stem plot is a discrete series plot, ideal for plotting DayWise data.\n",
    "It can be plotted using the `plt.stem()` function.\n",
    "\n",
    "- Display a stem plot of the daily change in of the stock price in percentage. <br>\n",
    "- This column was calculated in module 1 and should be already available in `week2.csv`. Observe whenever there's a large change."
   ]
  },
  {
   "cell_type": "code",
   "execution_count": 9,
   "metadata": {},
   "outputs": [
    {
     "data": {
      "text/html": [
       "<div>\n",
       "<style scoped>\n",
       "    .dataframe tbody tr th:only-of-type {\n",
       "        vertical-align: middle;\n",
       "    }\n",
       "\n",
       "    .dataframe tbody tr th {\n",
       "        vertical-align: top;\n",
       "    }\n",
       "\n",
       "    .dataframe thead th {\n",
       "        text-align: right;\n",
       "    }\n",
       "</style>\n",
       "<table border=\"1\" class=\"dataframe\">\n",
       "  <thead>\n",
       "    <tr style=\"text-align: right;\">\n",
       "      <th></th>\n",
       "      <th>Symbol</th>\n",
       "      <th>Series</th>\n",
       "      <th>Date</th>\n",
       "      <th>Prev Close</th>\n",
       "      <th>Open Price</th>\n",
       "      <th>High Price</th>\n",
       "      <th>Low Price</th>\n",
       "      <th>Last Price</th>\n",
       "      <th>Close Price</th>\n",
       "      <th>Average Price</th>\n",
       "      <th>Total Traded Quantity</th>\n",
       "      <th>Turnover</th>\n",
       "      <th>No. of Trades</th>\n",
       "      <th>Deliverable Qty</th>\n",
       "      <th>% Dly Qt to Traded Qty</th>\n",
       "      <th>Date_Year</th>\n",
       "      <th>Date_Month</th>\n",
       "      <th>VWAP</th>\n",
       "      <th>Day_Perc_Change</th>\n",
       "      <th>Trend</th>\n",
       "    </tr>\n",
       "    <tr>\n",
       "      <th>Date</th>\n",
       "      <th></th>\n",
       "      <th></th>\n",
       "      <th></th>\n",
       "      <th></th>\n",
       "      <th></th>\n",
       "      <th></th>\n",
       "      <th></th>\n",
       "      <th></th>\n",
       "      <th></th>\n",
       "      <th></th>\n",
       "      <th></th>\n",
       "      <th></th>\n",
       "      <th></th>\n",
       "      <th></th>\n",
       "      <th></th>\n",
       "      <th></th>\n",
       "      <th></th>\n",
       "      <th></th>\n",
       "      <th></th>\n",
       "      <th></th>\n",
       "    </tr>\n",
       "  </thead>\n",
       "  <tbody>\n",
       "    <tr>\n",
       "      <th>2017-05-15</th>\n",
       "      <td>TCS</td>\n",
       "      <td>EQ</td>\n",
       "      <td>2017-05-15</td>\n",
       "      <td>2360.65</td>\n",
       "      <td>2375.1</td>\n",
       "      <td>2377.95</td>\n",
       "      <td>2341.60</td>\n",
       "      <td>2368.0</td>\n",
       "      <td>2365.10</td>\n",
       "      <td>2352.60</td>\n",
       "      <td>908802</td>\n",
       "      <td>2.138043e+09</td>\n",
       "      <td>30047</td>\n",
       "      <td>712450</td>\n",
       "      <td>78.39</td>\n",
       "      <td>2017</td>\n",
       "      <td>5</td>\n",
       "      <td>2365.10</td>\n",
       "      <td>0.00000</td>\n",
       "      <td>Slight or No change</td>\n",
       "    </tr>\n",
       "    <tr>\n",
       "      <th>2017-05-16</th>\n",
       "      <td>TCS</td>\n",
       "      <td>EQ</td>\n",
       "      <td>2017-05-16</td>\n",
       "      <td>2365.10</td>\n",
       "      <td>2380.0</td>\n",
       "      <td>2435.00</td>\n",
       "      <td>2373.45</td>\n",
       "      <td>2425.1</td>\n",
       "      <td>2429.15</td>\n",
       "      <td>2410.26</td>\n",
       "      <td>1800513</td>\n",
       "      <td>4.339703e+09</td>\n",
       "      <td>58476</td>\n",
       "      <td>1167534</td>\n",
       "      <td>64.84</td>\n",
       "      <td>2017</td>\n",
       "      <td>5</td>\n",
       "      <td>2407.67</td>\n",
       "      <td>0.02708</td>\n",
       "      <td>Slight or No change</td>\n",
       "    </tr>\n",
       "    <tr>\n",
       "      <th>2017-05-17</th>\n",
       "      <td>TCS</td>\n",
       "      <td>EQ</td>\n",
       "      <td>2017-05-17</td>\n",
       "      <td>2429.15</td>\n",
       "      <td>2433.5</td>\n",
       "      <td>2460.75</td>\n",
       "      <td>2423.00</td>\n",
       "      <td>2450.0</td>\n",
       "      <td>2455.35</td>\n",
       "      <td>2443.31</td>\n",
       "      <td>1438099</td>\n",
       "      <td>3.513729e+09</td>\n",
       "      <td>86412</td>\n",
       "      <td>1031752</td>\n",
       "      <td>71.74</td>\n",
       "      <td>2017</td>\n",
       "      <td>5</td>\n",
       "      <td>2424.20</td>\n",
       "      <td>0.01079</td>\n",
       "      <td>Slight or No change</td>\n",
       "    </tr>\n",
       "  </tbody>\n",
       "</table>\n",
       "</div>"
      ],
      "text/plain": [
       "           Symbol Series       Date  Prev Close  Open Price  High Price  \\\n",
       "Date                                                                      \n",
       "2017-05-15    TCS     EQ 2017-05-15     2360.65      2375.1     2377.95   \n",
       "2017-05-16    TCS     EQ 2017-05-16     2365.10      2380.0     2435.00   \n",
       "2017-05-17    TCS     EQ 2017-05-17     2429.15      2433.5     2460.75   \n",
       "\n",
       "            Low Price  Last Price  Close Price  Average Price  \\\n",
       "Date                                                            \n",
       "2017-05-15    2341.60      2368.0      2365.10        2352.60   \n",
       "2017-05-16    2373.45      2425.1      2429.15        2410.26   \n",
       "2017-05-17    2423.00      2450.0      2455.35        2443.31   \n",
       "\n",
       "            Total Traded Quantity      Turnover  No. of Trades  \\\n",
       "Date                                                             \n",
       "2017-05-15                 908802  2.138043e+09          30047   \n",
       "2017-05-16                1800513  4.339703e+09          58476   \n",
       "2017-05-17                1438099  3.513729e+09          86412   \n",
       "\n",
       "            Deliverable Qty  % Dly Qt to Traded Qty  Date_Year  Date_Month  \\\n",
       "Date                                                                         \n",
       "2017-05-15           712450                   78.39       2017           5   \n",
       "2017-05-16          1167534                   64.84       2017           5   \n",
       "2017-05-17          1031752                   71.74       2017           5   \n",
       "\n",
       "               VWAP  Day_Perc_Change                Trend  \n",
       "Date                                                       \n",
       "2017-05-15  2365.10          0.00000  Slight or No change  \n",
       "2017-05-16  2407.67          0.02708  Slight or No change  \n",
       "2017-05-17  2424.20          0.01079  Slight or No change  "
      ]
     },
     "execution_count": 9,
     "metadata": {},
     "output_type": "execute_result"
    }
   ],
   "source": [
    "df.head(3)"
   ]
  },
  {
   "cell_type": "code",
   "execution_count": null,
   "metadata": {},
   "outputs": [],
   "source": [
    "plt.figure(figsize=(20, 10))\n",
    "plt.stem(df['Day_Perc_Change'], label='Day Percentage Change')\n",
    "plt.legend(loc='lower right', fontsize=25)\n",
    "plt.grid()\n",
    "plt.show()"
   ]
  },
  {
   "cell_type": "markdown",
   "metadata": {},
   "source": [
    "## 2.3 Plot the daily volumes as well and compare the percentage stem plot to it.\n",
    "\n",
    "Document your analysis of the relationship between volume and daily percentage change."
   ]
  },
  {
   "cell_type": "code",
   "execution_count": null,
   "metadata": {},
   "outputs": [],
   "source": [
    "plt.figure(figsize=(25, 10))\n",
    "plt.plot(df['Date'], df['Day_Perc_Change'], color = 'b')\n",
    "plt.stem(df['Date'], df['Day_Perc_Change'], 'r', label='Day_Perc_Change')\n",
    "plt.xlabel('Date', fontsize=22)\n",
    "plt.ylabel('Close Price', fontsize=22)\n",
    "plt.title('Date V/S Close Price', fontsize=28)\n",
    "plt.legend(loc='lower right', fontsize=20)\n",
    "plt.grid()\n",
    "plt.show()"
   ]
  },
  {
   "cell_type": "markdown",
   "metadata": {},
   "source": [
    "## 2.4 We want to see how often each Trend type occurs.\n",
    "\n",
    "- We had created a Trend column in `module 1`. We want to see how often each Trend type occurs. This can be seen as a __Pie Chart__, with each sector representing the percentage of days each trend occurs.\n",
    "\n",
    "- We can also use `groupby()` function with the trend column to group all days with same trend into a single group before plotting  the pie chart. \n",
    "\n",
    "- Create a __BAR plot__ of average & median values of `\"Total Traded Quantity\"`."
   ]
  },
  {
   "cell_type": "code",
   "execution_count": null,
   "metadata": {},
   "outputs": [],
   "source": [
    "trend_groupby = df.groupby('Trend').count()['Symbol']\n",
    "trend_groupby"
   ]
  },
  {
   "cell_type": "code",
   "execution_count": null,
   "metadata": {},
   "outputs": [],
   "source": [
    "df.Trend.value_counts(normalize=True)"
   ]
  },
  {
   "cell_type": "code",
   "execution_count": null,
   "metadata": {},
   "outputs": [],
   "source": [
    "fig, ax = plt.subplots(figsize=(6, 6))\n",
    "ax.pie(trend_groupby, labels=trend_groupby.index, autopct='%1.5f%%')\n",
    "\n",
    "ax.set_title(\"Trend Pie Chart\")\n",
    "ax.legend(trend_groupby.index,\n",
    "          title=\"Trend\",\n",
    "          loc=\"center left\",\n",
    "          bbox_to_anchor=(1.1, 0, 0.5, 1))\n",
    "\n",
    "plt.show()"
   ]
  },
  {
   "cell_type": "code",
   "execution_count": null,
   "metadata": {},
   "outputs": [],
   "source": [
    "df.head(3)"
   ]
  },
  {
   "cell_type": "code",
   "execution_count": null,
   "metadata": {},
   "outputs": [],
   "source": [
    "groupby_trend = df.groupby('Trend', as_index = False)['Total Traded Quantity']"
   ]
  },
  {
   "cell_type": "code",
   "execution_count": null,
   "metadata": {},
   "outputs": [],
   "source": [
    "fig, axes = plt.subplots(figsize=(12, 5), nrows=1, ncols=2)\n",
    "\n",
    "axes[0].set_title(\"Average values of the 'Total Traded Quantity' \\n by Trend type\")\n",
    "sns.barplot(ax = axes[0], x = 'Trend', y = 'Total Traded Quantity', color = 'red', \n",
    "            data = groupby_trend.mean().sort_values('Total Traded Quantity'))\n",
    "\n",
    "axes[1].set_title(\"Median values of the 'Total Traded Quantity' \\n by Trend type\")\n",
    "sns.barplot(ax = axes[1], x = 'Trend', y = 'Total Traded Quantity', color = 'blue', \n",
    "            data = groupby_trend.median().sort_values('Total Traded Quantity'))\n",
    "\n",
    "plt.show()"
   ]
  },
  {
   "cell_type": "markdown",
   "metadata": {},
   "source": [
    "## 2.5 Plot the daily return (percentage) distribution as a histogram.\n",
    "\n",
    "Histogram analysis is one of the most fundamental methods of exploratory data analysis. In this case, it'd return a frequency plot of various values of percentage changes ."
   ]
  },
  {
   "cell_type": "code",
   "execution_count": null,
   "metadata": {},
   "outputs": [],
   "source": [
    "df.Day_Perc_Change.hist()"
   ]
  },
  {
   "cell_type": "markdown",
   "metadata": {},
   "source": [
    "__Well, this plot is not so much clear so we can use `distplot()` as the plot for more information.__"
   ]
  },
  {
   "cell_type": "code",
   "execution_count": null,
   "metadata": {},
   "outputs": [],
   "source": [
    "plt.figure(figsize=(20, 8))\n",
    "\n",
    "sns.distplot(df['Day_Perc_Change'], kde=True, rug=False, color = 'green', label = 'Day Percentage Change')\n",
    "plt.legend(loc='upper left', fontsize=15)\n",
    "plt.title(\"Day Percentage Change Distribution\", fontsize=22)\n",
    "plt.xlabel(\"Day Percentage Change\", fontsize=18)\n",
    "plt.show()"
   ]
  },
  {
   "cell_type": "markdown",
   "metadata": {},
   "source": [
    "\n",
    "## 2.6 We next want to analyse how the behaviour of different stocks are correlated.\n",
    "\n",
    "The correlation is performed on the percentage change of the stock price instead of the stock price.\n",
    "\n",
    "- Load any 5 stocks of your choice into 5 dataframes. \n",
    "- Retain only rows for which ‘Series’ column has value ‘EQ’. \n",
    "- Create a single dataframe which contains the ‘Closing Price’ of each stock."
   ]
  },
  {
   "cell_type": "code",
   "execution_count": null,
   "metadata": {},
   "outputs": [],
   "source": [
    "plt.figure(figsize=(20, 12))\n",
    "sns.heatmap(df.corr(), cmap = 'YlGnBu', annot=True)"
   ]
  },
  {
   "cell_type": "code",
   "execution_count": null,
   "metadata": {},
   "outputs": [],
   "source": [
    "! dir/s"
   ]
  },
  {
   "cell_type": "code",
   "execution_count": null,
   "metadata": {
    "scrolled": true
   },
   "outputs": [],
   "source": [
    "df1 = pd.read_csv('Datasets/ASIANPAINT.csv')\n",
    "df2 = pd.read_csv('Datasets/AXISBANK.csv')\n",
    "df3 = pd.read_csv('Datasets/DRREDDY.csv')\n",
    "df4 = pd.read_csv('Datasets/LT.csv')\n",
    "df5 = pd.read_csv('Datasets/RELIANCE.csv')\n",
    "print(\"Loaded all 5 dataset files successfully!\")"
   ]
  },
  {
   "cell_type": "code",
   "execution_count": null,
   "metadata": {},
   "outputs": [],
   "source": [
    "df1.head(2)"
   ]
  },
  {
   "cell_type": "code",
   "execution_count": null,
   "metadata": {},
   "outputs": [],
   "source": [
    "df2.head(2)"
   ]
  },
  {
   "cell_type": "code",
   "execution_count": null,
   "metadata": {},
   "outputs": [],
   "source": [
    "df3.head(2)"
   ]
  },
  {
   "cell_type": "code",
   "execution_count": null,
   "metadata": {},
   "outputs": [],
   "source": [
    "df4.head(2)"
   ]
  },
  {
   "cell_type": "code",
   "execution_count": null,
   "metadata": {},
   "outputs": [],
   "source": [
    "df5.head(2)"
   ]
  },
  {
   "cell_type": "code",
   "execution_count": null,
   "metadata": {},
   "outputs": [],
   "source": [
    "### Retaining only those rows for which ‘Series’ column has value ‘EQ’\n",
    "for dfs in ([df1, df2, df3, df4, df5]):\n",
    "    df['Series'] = df[df['Series'] == 'EQ']['Series'] ## All Rows from each dataset where the Series.value is \"EQ\"\n",
    "    df.dropna(inplace = True)"
   ]
  },
  {
   "cell_type": "code",
   "execution_count": null,
   "metadata": {},
   "outputs": [],
   "source": [
    "df1.columns"
   ]
  },
  {
   "cell_type": "markdown",
   "metadata": {},
   "source": [
    "#### Creating a `DataFrame` that is having Closing prices of each Stock"
   ]
  },
  {
   "cell_type": "code",
   "execution_count": null,
   "metadata": {},
   "outputs": [],
   "source": [
    "stocks_li = ['ASIANPAINT', 'AXISBANK', 'DRREDDY', 'LT', 'RELIANCE']\n",
    "\n",
    "close_prices_df = pd.DataFrame(columns = stocks_li)\n",
    "\n",
    "close_prices_df['Date'] = df1['Date']\n",
    "\n",
    "for dfs in zip([df1, df2, df3, df4, df5], stocks_li):\n",
    "    close_prices_df[dfs[1]] = dfs[0]['Close Price']\n",
    "\n",
    "close_prices_df.set_index('Date', inplace = True)\n",
    "close_prices_df.head()"
   ]
  },
  {
   "cell_type": "markdown",
   "metadata": {},
   "source": [
    "- This dataframe should hence have five columns. Rename each column to the name of the stock that is contained in the column. \n",
    "\n",
    "- Create a new dataframe which is a percentage change of the values in the previous dataframe. Drop `Nan` values from this dataframe."
   ]
  },
  {
   "cell_type": "code",
   "execution_count": null,
   "metadata": {},
   "outputs": [],
   "source": [
    "correlation = close_prices_df.pct_change().dropna()\n",
    "correlation.head()"
   ]
  },
  {
   "cell_type": "code",
   "execution_count": null,
   "metadata": {},
   "outputs": [],
   "source": [
    "sns.pairplot(correlation)"
   ]
  },
  {
   "cell_type": "code",
   "execution_count": null,
   "metadata": {},
   "outputs": [],
   "source": [
    "plt.figure(figsize=(10, 6))\n",
    "corr = correlation.corr()\n",
    "sns.heatmap(corr, annot=True, cmap='YlGnBu')\n",
    "plt.show()"
   ]
  },
  {
   "cell_type": "markdown",
   "metadata": {},
   "source": [
    "## 2.7 Volatility is the change in variance in the returns of a stock over a specific period of time.\n",
    "__Do give the following documentation on <a href=\"https://www.investopedia.com/terms/v/volatility.asp\">volatility</a> a read.__\n",
    "\n",
    "You have already calculated the percentage changes in several stock prices. Calculate the 7 day rolling average of the percentage change of any of the stock prices, then compute the standard deviation (which is the square root of the variance) and plot the values.\n",
    "\n",
    "Note: pandas provides a `rolling()` function for dataframes and a `std()` function also which you can use."
   ]
  },
  {
   "cell_type": "code",
   "execution_count": null,
   "metadata": {},
   "outputs": [],
   "source": [
    "df['Volatility'] = df['Close Price'].pct_change().rolling(7).std() * np.sqrt(7)\n",
    "df.head(3)"
   ]
  },
  {
   "cell_type": "code",
   "execution_count": null,
   "metadata": {},
   "outputs": [],
   "source": [
    "correlation_volatility = correlation.rolling(7).std() * np.sqrt(7)\n",
    "correlation_volatility.head(10)"
   ]
  },
  {
   "cell_type": "code",
   "execution_count": null,
   "metadata": {},
   "outputs": [],
   "source": [
    "plt.figure(figsize=(10, 6))\n",
    "correlation_volatility.plot()\n",
    "plt.xticks(rotation=90, fontsize=12)\n",
    "plt.xlabel(\"Date\", fontsize=15)\n",
    "plt.ylabel(\"Volatility\", fontsize=15)\n",
    "plt.legend()\n",
    "plt.show()"
   ]
  },
  {
   "cell_type": "markdown",
   "metadata": {},
   "source": [
    "## 2.8 Calculate the volatility for the Nifty50 Index and Compare the two\n",
    "\n",
    "This leads us to a useful indicator known as 'Beta' ( We'll be covering this in length in Module 3)"
   ]
  },
  {
   "cell_type": "code",
   "execution_count": null,
   "metadata": {},
   "outputs": [],
   "source": [
    "nifty = pd.read_csv('Nifty50.csv') ### Loading Nift50.csv file from base Directory\n",
    "nifty.head(3)"
   ]
  },
  {
   "cell_type": "code",
   "execution_count": null,
   "metadata": {},
   "outputs": [],
   "source": [
    "nifty.set_index('Date', inplace=True, drop=False)\n",
    "nifty.shape"
   ]
  },
  {
   "cell_type": "code",
   "execution_count": null,
   "metadata": {},
   "outputs": [],
   "source": [
    "nifty['Volatility'] = nifty.Close.pct_change().rolling(7).std() * np.sqrt(7)\n",
    "nifty.tail(10)"
   ]
  },
  {
   "cell_type": "code",
   "execution_count": null,
   "metadata": {},
   "outputs": [],
   "source": [
    "corr_beta = pd.DataFrame()\n",
    "\n",
    "for name in correlation_volatility.columns:\n",
    "    corr_beta[name] = correlation_volatility[name] / nifty['Volatility']\n",
    "    \n",
    "corr_beta.plot()\n",
    "plt.xticks(rotation=45, fontsize=12)\n",
    "plt.xlabel(\"Date\", fontsize=15)\n",
    "plt.show()"
   ]
  },
  {
   "cell_type": "markdown",
   "metadata": {},
   "source": [
    "## 2.9 Trade Calls - Using Simple Moving Averages. Study about moving averages here.\n",
    "\n",
    "- Plot the 21 day and 34 day Moving average with the average price and decide a Call !\n",
    "\n",
    "- Call should be buy whenever the smaller moving average (21) crosses over longer moving average (34) AND the call should be sell whenever smaller moving average crosses under longer moving average.\n",
    "\n",
    "- One of the most widely used technical indicators."
   ]
  },
  {
   "cell_type": "code",
   "execution_count": null,
   "metadata": {},
   "outputs": [],
   "source": [
    "df[\"21_day_SMA\"] = df['Close Price'].rolling(21).mean()\n",
    "df[\"34_day_SMA\"] = df['Close Price'].rolling(34).mean()\n",
    "df[[\"21_day_SMA\", \"34_day_SMA\"]].plot()\n",
    "plt.show()"
   ]
  },
  {
   "cell_type": "code",
   "execution_count": null,
   "metadata": {},
   "outputs": [],
   "source": [
    "df.set_index('Date', inplace= True)\n",
    "prev_index = df.index[0]\n",
    "prev_row = df[:prev_index]\n",
    "short_sma_higher = prev_row[\"21_day_SMA\"][0] > prev_row[\"34_day_SMA\"][0]\n",
    "df['Trade_Call'] = 'HODL'"
   ]
  },
  {
   "cell_type": "code",
   "execution_count": null,
   "metadata": {},
   "outputs": [],
   "source": [
    "for index, row in df.iterrows():\n",
    "    if row[\"21_day_SMA\"] and row[\"34_day_SMA\"]:    \n",
    "        if short_sma_higher and row[\"21_day_SMA\"] < row[\"34_day_SMA\"]:\n",
    "            result = \"SELL\"\n",
    "        elif not short_sma_higher and row[\"21_day_SMA\"] > row[\"34_day_SMA\"]:\n",
    "            result = \"BUY\"\n",
    "        else:\n",
    "            result = \"HODL\" \n",
    "        df.at[index, 'Trade_Call'] = result\n",
    "        short_sma_higher = row[\"21_day_SMA\"] > row[\"34_day_SMA\"]                        \n",
    "    \n",
    "req = df[[\"Close Price\", \"21_day_SMA\", \"34_day_SMA\", \"Trade_Call\"]][df['Trade_Call'] != \"HODL\" ]\n",
    "req"
   ]
  },
  {
   "cell_type": "code",
   "execution_count": null,
   "metadata": {},
   "outputs": [],
   "source": [
    "fig = plt.figure(figsize=(20,10))\n",
    "ax1 = fig.add_subplot(111, ylabel=\"Price\")\n",
    "\n",
    "df[[\"Close Price\", \"21_day_SMA\", \"34_day_SMA\"]].plot(ax=ax1)\n",
    "\n",
    "ax1.plot(df[\"Close Price\"][df['Trade_Call'] == 'BUY' ].index, \n",
    "         df[\"Close Price\"][df['Trade_Call'] == 'BUY' ], '^', markersize=15, color='blue' )\n",
    "\n",
    "ax1.plot(df[\"Close Price\"][df['Trade_Call'] == 'SELL' ].index, \n",
    "         df[\"Close Price\"][df['Trade_Call'] == 'SELL' ], 'v', markersize=15, color='black' )\n",
    "\n",
    "plt.xlabel(\"Date\", fontsize=15)\n",
    "plt.ylabel(\"Price\", fontsize=15)\n",
    "plt.title(\"Close Price and Trade Calls\", fontsize=20)\n",
    "plt.show()"
   ]
  },
  {
   "cell_type": "markdown",
   "metadata": {},
   "source": [
    "## 2.10 Trade Calls - Using Bollinger Bands\n",
    "Plot the bollinger bands for this stock - the duration of 14 days and 2 standard deviations away from the average The bollinger bands comprise the following data points-\n",
    "\n",
    "- The 14 day rolling mean of the closing price (we call it the average)\n",
    "- Upper band which is the rolling mean + 2 standard deviations away from the average.\n",
    "- Lower band which is the rolling mean - 2 standard deviations away from the average.\n",
    "- Average Daily stock price.<br>\n",
    "\n",
    "Bollinger bands are extremely reliable , with a 95% accuracy at 2 standard deviations , and especially useful in sideways moving market.\n",
    "\n",
    "Observe the bands yourself , and analyse the accuracy of all the trade signals provided by the bollinger bands. Save to a new csv file."
   ]
  },
  {
   "cell_type": "code",
   "execution_count": null,
   "metadata": {},
   "outputs": [],
   "source": [
    "df[\"14_day_SMA\"] = df['Close Price'].rolling(14).mean()\n",
    "df[\"14_day_STD\"] = df['Close Price'].rolling(14).std()\n",
    "df[\"14_day_bollinger_upper\"] = df[\"14_day_SMA\"] + df[\"14_day_STD\"] * 2\n",
    "df[\"14_day_bollinger_lower\"] = df[\"14_day_SMA\"] - df[\"14_day_STD\"] * 2\n",
    "df.reset_index(inplace=True)\n",
    "\n",
    "ax = plt.gca()\n",
    "\n",
    "df.plot(kind='line',x='Date', y='Average Price', ax=ax, color='black')\n",
    "df.plot(kind='line',x='Date', y='14_day_SMA', ax=ax, color='blue', linestyle='--')\n",
    "df.plot(kind='line',x='Date', y='14_day_bollinger_upper', ax=ax, color='red', linestyle='--')\n",
    "df.plot(kind='line',x='Date', y='14_day_bollinger_lower', ax=ax, color='red', linestyle='--')\n",
    "\n",
    "plt.title(\"14 day bollinger bands\")\n",
    "plt.ylabel(\"Price\")\n",
    "plt.show()"
   ]
  },
  {
   "cell_type": "code",
   "execution_count": null,
   "metadata": {},
   "outputs": [],
   "source": [
    "file_name = 'week3.csv'\n",
    "df.to_csv(file_name)\n",
    "print(\"Saved Successfully as '{}'\".format(file_name))"
   ]
  },
  {
   "cell_type": "code",
   "execution_count": null,
   "metadata": {},
   "outputs": [],
   "source": []
  }
 ],
 "metadata": {
  "kernelspec": {
   "display_name": "Python 3",
   "language": "python",
   "name": "python3"
  },
  "language_info": {
   "codemirror_mode": {
    "name": "ipython",
    "version": 3
   },
   "file_extension": ".py",
   "mimetype": "text/x-python",
   "name": "python",
   "nbconvert_exporter": "python",
   "pygments_lexer": "ipython3",
   "version": "3.7.4"
  }
 },
 "nbformat": 4,
 "nbformat_minor": 2
}
