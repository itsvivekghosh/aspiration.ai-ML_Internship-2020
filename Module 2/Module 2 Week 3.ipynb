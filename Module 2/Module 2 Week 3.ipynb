{
 "cells": [
  {
   "cell_type": "markdown",
   "metadata": {},
   "source": [
    "# Module 2 Week 3"
   ]
  },
  {
   "cell_type": "code",
   "execution_count": null,
   "metadata": {},
   "outputs": [
    {
     "name": "stderr",
     "output_type": "stream",
     "text": [
      "F:\\Anaconda\\lib\\site-packages\\statsmodels\\tools\\_testing.py:19: FutureWarning: pandas.util.testing is deprecated. Use the functions in the public API at pandas.testing instead.\n",
      "  import pandas.util.testing as tm\n"
     ]
    }
   ],
   "source": [
    "import pandas as pd\n",
    "import numpy as np\n",
    "import matplotlib.pyplot as plt\n",
    "import seaborn as sns\n",
    "import warnings\n",
    "warnings.filterwarnings(\"ignore\")\n",
    "pd.set_option(\"display.max_columns\", None)\n",
    "plt.style.use(\"classic\")\n",
    "sns.set(rc={'figure.figsize':(20,10)})\n",
    "%matplotlib inline"
   ]
  },
  {
   "cell_type": "markdown",
   "metadata": {},
   "source": [
    "###  2.1 Load the week2.csv file into a dataframe.\n",
    "1. What is the type of the `Date` Column? Make sure it is of type datetime64. Convert the `Date` column to the index of the dataframe.\n",
    "2. Plot the closing price of each of the days for the entire time frame to get an idea of what the general outlook of the stock is.\n",
    "3. Look out for drastic changes in this stock, you have the exact date when these took place, try to fetch the news for this day of this stock This would be helpful if we are to train our model to take NLP inputs."
   ]
  },
  {
   "cell_type": "code",
   "execution_count": null,
   "metadata": {},
   "outputs": [],
   "source": [
    "## Loading Week 2 csv file\n",
    "df = pd.read_csv(\"../Module 1/Week 2/week2.csv\")\n",
    "df = df.iloc[:, 1:]\n",
    "df.head(3)"
   ]
  },
  {
   "cell_type": "code",
   "execution_count": null,
   "metadata": {},
   "outputs": [],
   "source": [
    "## Date Column Data-type\n",
    "print(df.Date.dtypes)\n",
    "if df.Date.dtypes == 'O':\n",
    "    print(\"The Date Column is of Object Type\")"
   ]
  },
  {
   "cell_type": "markdown",
   "metadata": {},
   "source": [
    "As this is not in `datetime64` format so we have to convert it into this format."
   ]
  },
  {
   "cell_type": "code",
   "execution_count": null,
   "metadata": {},
   "outputs": [],
   "source": [
    "df.info()"
   ]
  },
  {
   "cell_type": "markdown",
   "metadata": {},
   "source": [
    "WE can use `\"astype('datetime64')\"` property to change Date Column to `'datetime64'` format"
   ]
  },
  {
   "cell_type": "code",
   "execution_count": null,
   "metadata": {},
   "outputs": [],
   "source": [
    "df['Date'] = df.Date.astype('datetime64')\n",
    "df.info()"
   ]
  },
  {
   "cell_type": "markdown",
   "metadata": {},
   "source": [
    "The `Date` column is converted into `\"datetime64\"` format."
   ]
  },
  {
   "cell_type": "code",
   "execution_count": null,
   "metadata": {},
   "outputs": [],
   "source": [
    "plt.figure(figsize=(10, 6))\n",
    "sns.lineplot(data=df, x='Date', y='Close Price', label='TCS Close Price')\n",
    "plt.xticks(fontsize = 12)\n",
    "plt.yticks(fontsize = 12)\n",
    "plt.title(\"Close Prices with Dates\", fontsize = 15)\n",
    "plt.xlabel(\"Date\", fontsize=15)\n",
    "plt.ylabel(\"Close Price\", fontsize=15)\n",
    "plt.show()"
   ]
  },
  {
   "cell_type": "markdown",
   "metadata": {},
   "source": [
    "From the above plot, we can see that:\n",
    "1. The Closing Price came down with a large margin during May-June Period.\n",
    "2. The Closing Prices were very less after the major down-fall."
   ]
  },
  {
   "cell_type": "markdown",
   "metadata": {},
   "source": [
    "## 2.2 A stem plot is a discrete series plot, ideal for plotting DayWise data.\n",
    "It can be plotted using the `plt.stem()` function.\n",
    "\n",
    "- Display a stem plot of the daily change in of the stock price in percentage. <br>\n",
    "- This column was calculated in module 1 and should be already available in `week2.csv`. Observe whenever there's a large change."
   ]
  },
  {
   "cell_type": "code",
   "execution_count": null,
   "metadata": {},
   "outputs": [],
   "source": [
    "df.head(3)"
   ]
  },
  {
   "cell_type": "code",
   "execution_count": null,
   "metadata": {},
   "outputs": [],
   "source": [
    "plt.figure(figsize=(20, 10))\n",
    "plt.stem(df['Day_Perc_Change'], label='Day Percentage Change')\n",
    "plt.legend(loc='lower right', fontsize=25)\n",
    "plt.grid()\n",
    "plt.show()"
   ]
  },
  {
   "cell_type": "markdown",
   "metadata": {},
   "source": [
    "## 2.3 Plot the daily volumes as well and compare the percentage stem plot to it.\n",
    "\n",
    "Document your analysis of the relationship between volume and daily percentage change."
   ]
  },
  {
   "cell_type": "code",
   "execution_count": null,
   "metadata": {},
   "outputs": [],
   "source": [
    "plt.figure(figsize=(25, 10))\n",
    "plt.plot(df['Date'], df['Day_Perc_Change'], color = 'b')\n",
    "plt.stem(df['Date'], df['Day_Perc_Change'], 'r', label='Day_Perc_Change')\n",
    "plt.xlabel('Date', fontsize=22)\n",
    "plt.ylabel('Close Price', fontsize=22)\n",
    "plt.title('Date vs Close Price', fontsize=28)\n",
    "plt.legend(loc='lower right', fontsize=20)\n",
    "plt.grid()\n",
    "plt.show()"
   ]
  },
  {
   "cell_type": "markdown",
   "metadata": {},
   "source": [
    "## 2.4 We want to see how often each Trend type occurs.\n",
    "\n",
    "We had created a Trend column in `module 1`. We want to see how often each Trend type occurs. This can be seen as a pie chart, with each sector representing the percentage of days each trend occurs."
   ]
  },
  {
   "cell_type": "code",
   "execution_count": null,
   "metadata": {},
   "outputs": [],
   "source": [
    "trend_groupby = df.groupby('Trend').count()['Symbol']\n",
    "trend_groupby"
   ]
  },
  {
   "cell_type": "code",
   "execution_count": null,
   "metadata": {},
   "outputs": [],
   "source": [
    "fig, ax = plt.subplots(figsize=(6, 6))\n",
    "ax.pie(trend_groupby, labels=trend_groupby.index, autopct='%1.5f%%')\n",
    "\n",
    "ax.set_title(\"Trend Pie Chart\")\n",
    "ax.legend(trend_groupby.index,\n",
    "          title=\"Trend\",\n",
    "          loc=\"center left\",\n",
    "          bbox_to_anchor=(1.1, 0, 0.5, 1))\n",
    "\n",
    "plt.show()"
   ]
  },
  {
   "cell_type": "code",
   "execution_count": null,
   "metadata": {},
   "outputs": [],
   "source": [
    "df.head(3)"
   ]
  },
  {
   "cell_type": "code",
   "execution_count": null,
   "metadata": {},
   "outputs": [],
   "source": [
    "groupby_trend = df.groupby('Trend', as_index = False)['Total Traded Quantity']"
   ]
  },
  {
   "cell_type": "code",
   "execution_count": null,
   "metadata": {},
   "outputs": [],
   "source": [
    "fig, axes = plt.subplots(figsize=(12, 5), nrows=1, ncols=2)\n",
    "\n",
    "axes[0].set_title(\"Average values of the 'Total Traded Quantity' \\n by Trend type\")\n",
    "sns.barplot(ax = axes[0], x = 'Trend', y = 'Total Traded Quantity', color = 'blue', \n",
    "            data = groupby_trend.mean().sort_values('Total Traded Quantity'))\n",
    "\n",
    "axes[1].set_title(\"Median values of the 'Total Traded Quantity' \\n by Trend type\")\n",
    "sns.barplot(ax = axes[1], x = 'Trend', y = 'Total Traded Quantity', color = 'green', \n",
    "            data = groupby_trend.median().sort_values('Total Traded Quantity'))\n",
    "\n",
    "plt.show()"
   ]
  },
  {
   "cell_type": "markdown",
   "metadata": {},
   "source": [
    "## 2.5 Plot the daily return (percentage) distribution as a histogram.\n",
    "\n",
    "Histogram analysis is one of the most fundamental methods of exploratory data analysis. In this case, it'd return a frequency plot of various values of percentage changes ."
   ]
  },
  {
   "cell_type": "code",
   "execution_count": null,
   "metadata": {},
   "outputs": [],
   "source": [
    "plt.figure(figsize=(20, 8))\n",
    "\n",
    "sns.distplot(df['Day_Perc_Change'], kde=True, rug=False, color = 'green', label = 'Day Percentage Change')\n",
    "plt.legend(loc='upper left', fontsize=15)\n",
    "plt.title(\"Day Percentage Change Distribution\", fontsize=22)\n",
    "plt.xlabel(\"Day Percentage Change\", fontsize=18)\n",
    "plt.show()"
   ]
  },
  {
   "cell_type": "markdown",
   "metadata": {},
   "source": [
    "\n",
    "## 2.6 We next want to analyse how the behaviour of different stocks are correlated.\n",
    "\n",
    "The correlation is performed on the percentage change of the stock price instead of the stock price.\n",
    "\n",
    "Load any 5 stocks of your choice into 5 dataframes. Retain only rows for which ‘Series’ column has value ‘EQ’. Create a single dataframe which contains the ‘Closing Price’ of each stock."
   ]
  },
  {
   "cell_type": "code",
   "execution_count": null,
   "metadata": {},
   "outputs": [],
   "source": [
    "ls"
   ]
  },
  {
   "cell_type": "code",
   "execution_count": null,
   "metadata": {},
   "outputs": [],
   "source": [
    "df1 = pd.read_csv('Datasets/ASIANPAINT.csv')\n",
    "df2 = pd.read_csv('Datasets/AXISBANK.csv')\n",
    "df3 = pd.read_csv('Datasets/DRREDDY.csv')\n",
    "df4 = pd.read_csv('Datasets/LT.csv')\n",
    "df5 = pd.read_csv('Datasets/RELIANCE.csv')\n",
    "print(\"Loaded all files successfully!\")"
   ]
  },
  {
   "cell_type": "code",
   "execution_count": null,
   "metadata": {},
   "outputs": [],
   "source": [
    "for dfs in ([df1, df2, df3, df4, df5]):\n",
    "    df['Series'] = df['Series'][df['Series'] == 'EQ']\n",
    "    df.dropna(inplace = True)"
   ]
  },
  {
   "cell_type": "code",
   "execution_count": null,
   "metadata": {},
   "outputs": [],
   "source": [
    "df1.columns"
   ]
  },
  {
   "cell_type": "code",
   "execution_count": null,
   "metadata": {},
   "outputs": [],
   "source": [
    "stocks_li = ['ASIANPAINT', 'AXISBANK', 'DRREDDY', 'LT', 'RELIANCE']\n",
    "\n",
    "close_prices_df = pd.DataFrame(columns = stocks_li)\n",
    "\n",
    "close_prices_df['Date'] = df1['Date']\n",
    "\n",
    "for dfs in zip([df1, df2, df3, df4, df5], stocks_li):\n",
    "    close_prices_df[dfs[1]] = dfs[0]['Close Price']\n",
    "\n",
    "close_prices_df.set_index('Date', inplace = True)\n",
    "close_prices_df.head()"
   ]
  },
  {
   "cell_type": "markdown",
   "metadata": {},
   "source": [
    "This dataframe should hence have five columns. Rename each column to the name of the stock that is contained in the column. Create a new dataframe which is a percentage change of the values in the previous dataframe. Drop Nan’s from this dataframe."
   ]
  },
  {
   "cell_type": "code",
   "execution_count": null,
   "metadata": {},
   "outputs": [],
   "source": [
    "correlation = close_prices_df.pct_change().dropna()\n",
    "correlation.head()"
   ]
  },
  {
   "cell_type": "code",
   "execution_count": null,
   "metadata": {},
   "outputs": [],
   "source": [
    "sns.pairplot(correlation)"
   ]
  },
  {
   "cell_type": "code",
   "execution_count": null,
   "metadata": {},
   "outputs": [],
   "source": [
    "plt.figure(figsize=(10,6))\n",
    "corr = correlation.corr()\n",
    "sns.heatmap(corr, annot=True, cmap='YlGnBu')\n",
    "plt.show()"
   ]
  },
  {
   "cell_type": "markdown",
   "metadata": {},
   "source": [
    "## 2.7 Volatility is the change in variance in the returns of a stock over a specific period of time.\n",
    "Do give the following documentation on volatility a read.\n",
    "\n",
    "You have already calculated the percentage changes in several stock prices. Calculate the 7 day rolling average of the percentage change of any of the stock prices, then compute the standard deviation (which is the square root of the variance) and plot the values.\n",
    "\n",
    "Note: pandas provides a `rolling()` function for dataframes and a `std()` function also which you can use."
   ]
  },
  {
   "cell_type": "code",
   "execution_count": null,
   "metadata": {},
   "outputs": [],
   "source": [
    "df['Volatility'] = df['Close Price'].pct_change().rolling(7).std() * np.sqrt(7)"
   ]
  },
  {
   "cell_type": "code",
   "execution_count": null,
   "metadata": {},
   "outputs": [],
   "source": [
    "correlation_volatility = correlation.rolling(7).std() * np.sqrt(7)\n",
    "correlation_volatility.head(15)"
   ]
  },
  {
   "cell_type": "code",
   "execution_count": null,
   "metadata": {},
   "outputs": [],
   "source": [
    "plt.figure(figsize=(10, 6))\n",
    "correlation_volatility.plot()\n",
    "plt.show()"
   ]
  },
  {
   "cell_type": "markdown",
   "metadata": {},
   "source": [
    "## 2.8 Calculate the volatility for the Nifty index and compare the 2\n",
    "\n",
    "This leads us to a useful indicator known as 'Beta' ( We'll be covering this in length in Module 3)"
   ]
  },
  {
   "cell_type": "code",
   "execution_count": null,
   "metadata": {},
   "outputs": [],
   "source": [
    "nifty = pd.read_csv('Nifty50.csv')\n",
    "\n",
    "nifty.set_index('Date', inplace=True, drop=False)\n",
    "\n",
    "nifty['Volatility'] = nifty.Close.pct_change().rolling(7).std() * np.sqrt(7)\n",
    "\n",
    "nifty.head(10)"
   ]
  },
  {
   "cell_type": "code",
   "execution_count": null,
   "metadata": {},
   "outputs": [],
   "source": [
    "corr_beta = pd.DataFrame()\n",
    "\n",
    "for name in correlation_volatility.columns:\n",
    "    corr_beta[name] = correlation_volatility[name] / nifty['Volatility']\n",
    "    \n",
    "corr_beta.plot()\n",
    "plt.show()"
   ]
  },
  {
   "cell_type": "markdown",
   "metadata": {},
   "source": [
    "## 2.9 Trade Calls - Using Simple Moving Averages. Study about moving averages here.\n",
    "\n",
    "Plot the 21 day and 34 day Moving average with the average price and decide a Call !\n",
    "\n",
    "Call should be buy whenever the smaller moving average (21) crosses over longer moving average (34) AND the call should be sell whenever smaller moving average crosses under longer moving average.\n",
    "\n",
    "One of the most widely used technical indicators."
   ]
  },
  {
   "cell_type": "code",
   "execution_count": null,
   "metadata": {},
   "outputs": [],
   "source": [
    "df[\"21_day_SMA\"] = df['Close Price'].rolling(21).mean()\n",
    "df[\"34_day_SMA\"] = df['Close Price'].rolling(34).mean()\n",
    "df[[\"21_day_SMA\", \"34_day_SMA\"]].plot()\n",
    "plt.show()"
   ]
  },
  {
   "cell_type": "code",
   "execution_count": null,
   "metadata": {},
   "outputs": [],
   "source": [
    "df.set_index('Date', inplace= True)\n",
    "rev_index = df.index[0]\n",
    "prev_row = df[:rev_index]\n",
    "short_sma_higher = prev_row[\"21_day_SMA\"][0] > prev_row[\"34_day_SMA\"][0]\n",
    "df['Trade_Call'] = 'HODL'"
   ]
  },
  {
   "cell_type": "code",
   "execution_count": null,
   "metadata": {},
   "outputs": [],
   "source": [
    "for index, row in df.iterrows():\n",
    "    if row[\"21_day_SMA\"] and row[\"34_day_SMA\"]:    \n",
    "        if short_sma_higher and row[\"21_day_SMA\"] < row[\"34_day_SMA\"]:\n",
    "            result = \"SELL\"\n",
    "        elif not short_sma_higher and row[\"21_day_SMA\"] > row[\"34_day_SMA\"]:\n",
    "            result = \"BUY\"\n",
    "        else:\n",
    "            result = \"HODL\" \n",
    "        df.at[index, 'Trade_Call'] = result\n",
    "        short_sma_higher = row[\"21_day_SMA\"] > row[\"34_day_SMA\"]                        \n",
    "    \n",
    "req = df[[\"Close Price\", \"21_day_SMA\", \"34_day_SMA\", \"Trade_Call\"]][df['Trade_Call'] != \"HODL\" ]\n",
    "req"
   ]
  },
  {
   "cell_type": "code",
   "execution_count": null,
   "metadata": {},
   "outputs": [],
   "source": [
    "fig = plt.figure(figsize=(20,10))\n",
    "ax1 = fig.add_subplot(111, ylabel=\"Price\")\n",
    "\n",
    "df[[\"Close Price\", \"21_day_SMA\", \"34_day_SMA\"]].plot(ax=ax1)\n",
    "\n",
    "ax1.plot(df[\"Close Price\"][df['Trade_Call'] == 'BUY' ].index, \n",
    "         df[\"Close Price\"][df['Trade_Call'] == 'BUY' ], '^', markersize=15, color='blue' )\n",
    "\n",
    "ax1.plot(df[\"Close Price\"][df['Trade_Call'] == 'SELL' ].index, \n",
    "         df[\"Close Price\"][df['Trade_Call'] == 'SELL' ], 'v', markersize=15, color='black' )\n",
    "\n",
    "plt.show()"
   ]
  },
  {
   "cell_type": "markdown",
   "metadata": {},
   "source": [
    "## 2.10 Trade Calls - Using Bollinger Bands\n",
    "Plot the bollinger bands for this stock - the duration of 14 days and 2 standard deviations away from the average The bollinger bands comprise the following data points-\n",
    "\n",
    "- The 14 day rolling mean of the closing price (we call it the average)\n",
    "- Upper band which is the rolling mean + 2 standard deviations away from the average.\n",
    "- Lower band which is the rolling mean - 2 standard deviations away from the average.\n",
    "- Average Daily stock price.<br>\n",
    "\n",
    "Bollinger bands are extremely reliable , with a 95% accuracy at 2 standard deviations , and especially useful in sideways moving market.\n",
    "\n",
    "Observe the bands yourself , and analyse the accuracy of all the trade signals provided by the bollinger bands. Save to a new csv file."
   ]
  },
  {
   "cell_type": "code",
   "execution_count": null,
   "metadata": {},
   "outputs": [],
   "source": [
    "df[\"14_day_SMA\"] = df['Close Price'].rolling(14).mean()\n",
    "df[\"14_day_STD\"] = df['Close Price'].rolling(14).std()\n",
    "df[\"14_day_bollinger_upper\"] = df[\"14_day_SMA\"] + df[\"14_day_STD\"] * 2\n",
    "df[\"14_day_bollinger_lower\"] = df[\"14_day_SMA\"] - df[\"14_day_STD\"] * 2\n",
    "df.reset_index(inplace=True)\n",
    "\n",
    "ax = plt.gca()\n",
    "\n",
    "df.plot(kind='line',x='Date', y='Average Price', ax=ax, color='black')\n",
    "df.plot(kind='line',x='Date', y='14_day_SMA', ax=ax, color='blue', linestyle='--')\n",
    "df.plot(kind='line',x='Date', y='14_day_bollinger_upper', ax=ax, color='red', linestyle='--')\n",
    "df.plot(kind='line',x='Date', y='14_day_bollinger_lower', ax=ax, color='red', linestyle='--')\n",
    "\n",
    "\n",
    "plt.title(\"14 day bollinger bands\")\n",
    "plt.ylabel(\"Price\")\n",
    "plt.show()"
   ]
  },
  {
   "cell_type": "code",
   "execution_count": null,
   "metadata": {},
   "outputs": [],
   "source": [
    "df.to_csv('week3.csv')"
   ]
  },
  {
   "cell_type": "code",
   "execution_count": null,
   "metadata": {},
   "outputs": [],
   "source": []
  },
  {
   "cell_type": "code",
   "execution_count": null,
   "metadata": {},
   "outputs": [],
   "source": []
  },
  {
   "cell_type": "code",
   "execution_count": null,
   "metadata": {},
   "outputs": [],
   "source": []
  }
 ],
 "metadata": {
  "kernelspec": {
   "display_name": "Python 3",
   "language": "python",
   "name": "python3"
  },
  "language_info": {
   "codemirror_mode": {
    "name": "ipython",
    "version": 3
   },
   "file_extension": ".py",
   "mimetype": "text/x-python",
   "name": "python",
   "nbconvert_exporter": "python",
   "pygments_lexer": "ipython3",
   "version": "3.7.4"
  }
 },
 "nbformat": 4,
 "nbformat_minor": 2
}
